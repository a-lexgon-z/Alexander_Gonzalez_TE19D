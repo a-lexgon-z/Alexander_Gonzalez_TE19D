{
 "metadata": {
  "language_info": {
   "codemirror_mode": {
    "name": "ipython",
    "version": 3
   },
   "file_extension": ".py",
   "mimetype": "text/x-python",
   "name": "python",
   "nbconvert_exporter": "python",
   "pygments_lexer": "ipython3",
   "version": "3.8.3-final"
  },
  "orig_nbformat": 2,
  "kernelspec": {
   "name": "Python 3.8.3 32-bit ('base': conda)",
   "display_name": "Python 3.8.3 32-bit ('base': conda)",
   "metadata": {
    "interpreter": {
     "hash": "f5a03e724e12e353ca9d8468c323952240fafed31b30771010fa4760ab32ac74"
    }
   }
  }
 },
 "nbformat": 4,
 "nbformat_minor": 2,
 "cells": [
  {
   "cell_type": "code",
   "execution_count": 41,
   "metadata": {},
   "outputs": [
    {
     "output_type": "stream",
     "name": "stdout",
     "text": [
      "distance between (0.0, 1.0) and (0.0, 1.0) is :  7.0710678118654755\n"
     ]
    }
   ],
   "source": [
    "x1=float(input(\"enter x1 : \"))\n",
    "\n",
    "x2=float(input(\"enter x2 : \"))\n",
    "\n",
    "y1=float(input(\"enter y1 : \"))\n",
    "\n",
    "y2=float(input(\"enter y2 : \"))\n",
    "\n",
    "distance = math.sqrt( ((int(p1[0])-int(p2[0]))**2)+((int(p1[1])-int(p2[1]))**2) )\n",
    "\n",
    "print(\"distance between\",(x1,x2),\"and\",(y1,y2),\"is : \",distance)"
   ]
  },
  {
   "cell_type": "code",
   "execution_count": 53,
   "metadata": {},
   "outputs": [
    {
     "output_type": "stream",
     "name": "stdout",
     "text": [
      "Distansen mellan (-1.0, 1.0) och origo är: 2.0\n"
     ]
    }
   ],
   "source": [
    "x = float(input(\"Ange x: \"))\n",
    "y = float(input(\"Ange y: \"))\n",
    "distans = x**2 + y**2\n",
    "\n",
    "print(f\"Distansen mellan {x, y} och origo är: {distans}\")"
   ]
  },
  {
   "cell_type": "code",
   "execution_count": null,
   "metadata": {},
   "outputs": [],
   "source": []
  }
 ]
}